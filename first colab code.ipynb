{
  "nbformat": 4,
  "nbformat_minor": 0,
  "metadata": {
    "colab": {
      "provenance": [],
      "authorship_tag": "ABX9TyOkYhD5Xz3iCoKcZwPFO4+A",
      "include_colab_link": true
    },
    "kernelspec": {
      "name": "python3",
      "display_name": "Python 3"
    },
    "language_info": {
      "name": "python"
    }
  },
  "cells": [
    {
      "cell_type": "markdown",
      "metadata": {
        "id": "view-in-github",
        "colab_type": "text"
      },
      "source": [
        "<a href=\"https://colab.research.google.com/github/AbdulHaseeb434000/Learning-Colab/blob/main/first%20colab%20code.ipynb\" target=\"_parent\"><img src=\"https://colab.research.google.com/assets/colab-badge.svg\" alt=\"Open In Colab\"/></a>"
      ]
    },
    {
      "cell_type": "code",
      "execution_count": 1,
      "metadata": {
        "colab": {
          "base_uri": "https://localhost:8080/"
        },
        "id": "uG8TVmphLEX5",
        "outputId": "d9f47734-a69a-413d-a779-bde6a09fdab4"
      },
      "outputs": [
        {
          "output_type": "stream",
          "name": "stdout",
          "text": [
            "Hello World\n"
          ]
        }
      ],
      "source": [
        "print(\"Hello World\")"
      ]
    },
    {
      "cell_type": "code",
      "source": [
        "# prompt: write a function to print greetings after taking name as input\n",
        "\n",
        "def greet(name):\n",
        "  print(f\"Hello, {name}!\")\n",
        "\n",
        "# Get the name from the user\n",
        "name = input(\"Enter your name: \")\n",
        "\n",
        "# Call the greet function\n",
        "greet(name)\n"
      ],
      "metadata": {
        "id": "y2fUb-UzLtIg"
      },
      "execution_count": null,
      "outputs": []
    }
  ]
}